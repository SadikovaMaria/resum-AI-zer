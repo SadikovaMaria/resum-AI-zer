{
  "nbformat": 4,
  "nbformat_minor": 0,
  "metadata": {
    "colab": {
      "provenance": []
    },
    "kernelspec": {
      "name": "python3",
      "display_name": "Python 3"
    },
    "language_info": {
      "name": "python"
    }
  },
  "cells": [
    {
      "cell_type": "markdown",
      "source": [
        "# **Работаем над классификацией резюме.**\n",
        "### На основе датасетов вида: \"Category\", \"Resume\" мы создаем датасет вида: \"Category\", \"Resume\", \"Label\", т.е. добавляем еще один столбец, в котором указываем принадлежность каждого резюме к одному из 7-ми классов (см. ниже)"
      ],
      "metadata": {
        "id": "jjWkVbcf6LP0"
      }
    },
    {
      "cell_type": "code",
      "source": [
        "import os\n",
        "os.mkdir(\"data\")"
      ],
      "metadata": {
        "id": "Xc2Sqjfb6Iln"
      },
      "execution_count": null,
      "outputs": []
    },
    {
      "cell_type": "code",
      "source": [
        "# Скачиваем архив с резюме с гугл-диска\n",
        "import gdown\n",
        "url = 'https://drive.google.com/uc?export=download&confirm=no_antivirus&id=17VltEkh-3TE4DoW8bxCaPLzvsz0lMRPP'\n",
        "gdown.download(url, '/content/')"
      ],
      "metadata": {
        "colab": {
          "base_uri": "https://localhost:8080/",
          "height": 104
        },
        "id": "qSgovzcNAhoD",
        "outputId": "51e9bf59-c747-4622-c648-89f660e5c7a1"
      },
      "execution_count": null,
      "outputs": [
        {
          "output_type": "stream",
          "name": "stderr",
          "text": [
            "Downloading...\n",
            "From: https://drive.google.com/uc?export=download&confirm=no_antivirus&id=17VltEkh-3TE4DoW8bxCaPLzvsz0lMRPP\n",
            "To: /content/resumes_corpus.zip\n",
            "100%|██████████| 89.4M/89.4M [00:01<00:00, 49.4MB/s]\n"
          ]
        },
        {
          "output_type": "execute_result",
          "data": {
            "text/plain": [
              "'/content/resumes_corpus.zip'"
            ],
            "application/vnd.google.colaboratory.intrinsic+json": {
              "type": "string"
            }
          },
          "metadata": {},
          "execution_count": 2
        }
      ]
    },
    {
      "cell_type": "code",
      "source": [
        "! unzip -q /content/resumes_corpus.zip  -d data"
      ],
      "metadata": {
        "id": "dGy-5Ya8Asb7"
      },
      "execution_count": null,
      "outputs": []
    },
    {
      "cell_type": "code",
      "source": [
        "# В скаченном архиме есть проблема: одна и та же специальность (например Web Developer) может фигурировать под десятком похожих названий,\n",
        "# например: 'Web App Developer', 'Web Applications', 'WEB DEVELOPER' и т.п, поэтому нужна некая нормализация специальностей:\n",
        "def labels_normalization(orig_label):\n",
        "  if ('Project Manager' in orig_label) or \\\n",
        "      ('IT Manager' in orig_label) or \\\n",
        "      ('PROJECT MANAGER' in orig_label):\n",
        "      return 'Project Manager'\n",
        "\n",
        "  elif ('Web Developer' in orig_label) or \\\n",
        "        ('Web App Developer' in orig_label) or \\\n",
        "        ('Front End' in orig_label) or \\\n",
        "        ('Web Applications' in orig_label) or \\\n",
        "        ('WEB DEVELOPER' in orig_label) or \\\n",
        "        ('Front- End Developer' in orig_label) or \\\n",
        "        ('Web developer' in orig_label) or \\\n",
        "        ('WEB DEVELOPER' in orig_label) or \\\n",
        "        ('JavaScript' in orig_label):\n",
        "        return 'Web Designing'\n",
        "\n",
        "  elif ('Back End Developer' in orig_label):\n",
        "      return 'BackEnd Developer'\n",
        "\n",
        "  elif ('UI designer' in orig_label) or \\\n",
        "        ('UI/UX' in orig_label):\n",
        "      return 'UI/UX designer'\n",
        "\n",
        "  elif ('Full Stack' in orig_label):\n",
        "      return 'Full Stack Developer'\n",
        "\n",
        "  elif ('Java Developer' in orig_label) or \\\n",
        "        ('Java software engineer' in orig_label) or \\\n",
        "        ('JAVA DEVELOPER' in orig_label):\n",
        "      return 'Java Developer'\n",
        "\n",
        "  elif ('Python Developer' in orig_label):\n",
        "      return 'Python Developer'\n",
        "\n",
        "  elif ('Data Scientist' in orig_label) or \\\n",
        "       ('Data Science' in orig_label) or \\\n",
        "        ('Machine Learning' in orig_label):\n",
        "      return 'Data Science'\n",
        "\n",
        "  elif ('Database Administrator' in orig_label) or \\\n",
        "        ('Database Analyst' in orig_label):\n",
        "      return 'Database Administrator'\n",
        "\n",
        "  elif ('System Administrator' in orig_label) or \\\n",
        "        ('Systems and Network Administrator' in orig_label) or \\\n",
        "        ('Systems Engineer' in orig_label) or \\\n",
        "        ('Systems Administrator' in orig_label) or \\\n",
        "        ('SYSTEMS ADMINISTRATOR' in orig_label):\n",
        "      return 'System Administrator'\n",
        "\n",
        "  elif ('Systems Analyst' in orig_label):\n",
        "      return 'Systems Analyst'\n",
        "\n",
        "  elif ('Software Engineer' in orig_label) or \\\n",
        "        ('Software developer' in orig_label) or \\\n",
        "        ('Software Developer' in orig_label) or \\\n",
        "        ('Software Development Engineer' in orig_label):\n",
        "      return 'Software Developer'\n",
        "\n",
        "  elif ('Network Administrator' in orig_label) or \\\n",
        "        ('Network Communications Administrator' in orig_label) or \\\n",
        "        ('Network Engineer' in orig_label) or \\\n",
        "        ('NETWORK ADMINISTRATOR' in orig_label):\n",
        "      return 'Network Administrator'\n",
        "\n",
        "  elif ('IT Support Engineer' in orig_label):\n",
        "      return 'IT Support Engineer'\n",
        "\n",
        "  elif ('.NET Developer' in orig_label):\n",
        "      return 'DotNet Developer'\n",
        "\n",
        "  elif ('IT Service Manager' in orig_label):\n",
        "      return 'IT Service Manager'\n",
        "\n",
        "  elif ('IT Security Engineer' in orig_label) or \\\n",
        "        ('IT Security Analyst' in orig_label) or \\\n",
        "        ('Security Manager' in orig_label) or \\\n",
        "        ('Network Security Engineer' in orig_label) or \\\n",
        "        ('Network Security Administrator' in orig_label) or \\\n",
        "        ('Security Analyst' in orig_label) or \\\n",
        "        ('IT SECURITY' in orig_label) or \\\n",
        "        ('Cyber Security' in orig_label):\n",
        "        return 'Network Security Engineer'\n",
        "\n",
        "  else:\n",
        "      return ''"
      ],
      "metadata": {
        "id": "ZT_FpOrfTGZU"
      },
      "execution_count": null,
      "outputs": []
    },
    {
      "cell_type": "code",
      "source": [
        "# Всего в архиве оказалось несколько десятков тысяч резюме - у нас нет финансовых возможностей работать с таким огромным датасетом,\n",
        "# поэтому мы сокращаем количество резюме с помощью мини-нормализации:\n",
        "\n",
        "def labels_normalization_mini(orig_label):\n",
        "  if ('WEB DEVELOPER' in orig_label):\n",
        "      return 'Web Designing'\n",
        "\n",
        "  elif ('Back End Developer' in orig_label):\n",
        "      return 'BackEnd Developer'\n",
        "\n",
        "  elif ('UI designer' in orig_label) or \\\n",
        "        ('UI/UX' in orig_label):\n",
        "      return 'UI/UX designer'\n",
        "\n",
        "  elif ('Full Stack' in orig_label):\n",
        "      return 'Full Stack Developer'\n",
        "\n",
        "  elif ('Data Scientist' in orig_label) or \\\n",
        "       ('Data Science' in orig_label) or \\\n",
        "        ('Machine Learning' in orig_label):\n",
        "      return 'Data Science'\n",
        "\n",
        "  elif ('Database Analyst' in orig_label):\n",
        "      return 'Database Analyst'\n",
        "\n",
        "  elif ('Systems Analyst' in orig_label):\n",
        "      return 'Systems Analyst'\n",
        "\n",
        "  elif ('SSoftware Engineer' in orig_label):\n",
        "      return 'Software Developer'\n",
        "\n",
        "  elif ('IT Support Engineer' in orig_label):\n",
        "      return 'IT Support Engineer'\n",
        "\n",
        "  elif ('.NET Developer' in orig_label):\n",
        "      return 'DotNet Developer'\n",
        "\n",
        "  elif ('IT Service Manager' in orig_label):\n",
        "      return 'IT Service Manager'\n",
        "\n",
        "  elif ('IT Security Engineer' in orig_label) or \\\n",
        "        ('Network Security Engineer' in orig_label):\n",
        "        return 'Network Security Engineer'\n",
        "\n",
        "  else:\n",
        "      return ''"
      ],
      "metadata": {
        "id": "1XvoKGKo_UiA"
      },
      "execution_count": null,
      "outputs": []
    },
    {
      "cell_type": "code",
      "source": [
        "# Кроме датасета выше мы используем еще один датасет поменьше:\n",
        "import kagglehub\n",
        "\n",
        "# Download latest version\n",
        "path = kagglehub.dataset_download(\"gauravduttakiit/resume-dataset\")"
      ],
      "metadata": {
        "colab": {
          "base_uri": "https://localhost:8080/"
        },
        "id": "vy7nGPH4hMiE",
        "outputId": "16c08279-21f1-456f-cdff-29c4fdf53c2f"
      },
      "execution_count": null,
      "outputs": [
        {
          "output_type": "stream",
          "name": "stdout",
          "text": [
            "Downloading from https://www.kaggle.com/api/v1/datasets/download/gauravduttakiit/resume-dataset?dataset_version_number=1...\n"
          ]
        },
        {
          "output_type": "stream",
          "name": "stderr",
          "text": [
            "100%|██████████| 383k/383k [00:00<00:00, 49.4MB/s]"
          ]
        },
        {
          "output_type": "stream",
          "name": "stdout",
          "text": [
            "Extracting files...\n"
          ]
        },
        {
          "output_type": "stream",
          "name": "stderr",
          "text": [
            "\n"
          ]
        }
      ]
    },
    {
      "cell_type": "code",
      "source": [
        "import pandas as pd\n",
        "\n",
        "df=pd.read_csv(path + '/UpdatedResumeDataSet.csv')"
      ],
      "metadata": {
        "id": "Sl-zu_wihhF3"
      },
      "execution_count": null,
      "outputs": []
    },
    {
      "cell_type": "code",
      "source": [
        "df['Category'].unique()"
      ],
      "metadata": {
        "colab": {
          "base_uri": "https://localhost:8080/"
        },
        "id": "U0C_oqD7hkxr",
        "outputId": "5ed09183-ca94-4f3e-b920-6d35549d113d"
      },
      "execution_count": null,
      "outputs": [
        {
          "output_type": "execute_result",
          "data": {
            "text/plain": [
              "array(['Data Science', 'HR', 'Advocate', 'Arts', 'Web Designing',\n",
              "       'Mechanical Engineer', 'Sales', 'Health and fitness',\n",
              "       'Civil Engineer', 'Java Developer', 'Business Analyst',\n",
              "       'SAP Developer', 'Automation Testing', 'Electrical Engineering',\n",
              "       'Operations Manager', 'Python Developer', 'DevOps Engineer',\n",
              "       'Network Security Engineer', 'PMO', 'Database', 'Hadoop',\n",
              "       'ETL Developer', 'DotNet Developer', 'Blockchain', 'Testing'],\n",
              "      dtype=object)"
            ]
          },
          "metadata": {},
          "execution_count": 8
        }
      ]
    },
    {
      "cell_type": "code",
      "source": [
        "# В этом втором датасете много специальностей, которые нам не нужны: 'HR', 'Advocate', 'Arts' и т.п.\n",
        "# Поэтому мы избавляемся от них:\n",
        "df.drop(df[(df['Category'] == 'HR') | (df['Category'] == 'Operations Manager') | (df['Category'] == 'Hadoop') | (df['Category'] == 'ETL Developer') | (df['Category'] == 'Database') | (df['Category'] == 'Advocate') | (df['Category'] == 'Arts') | (df['Category'] == 'Sales') | (df['Category'] == 'Health and fitness') | (df['Category'] == 'Civil Engineer') | (df['Category'] == 'Electrical Engineering') | (df['Category'] == 'PMO') | (df['Category'] == 'Blockchain') | (df['Category'] == 'Mechanical Engineer')].index, inplace=True)\n",
        "df['Category'].unique()"
      ],
      "metadata": {
        "colab": {
          "base_uri": "https://localhost:8080/"
        },
        "id": "fFG8Mjh-hou0",
        "outputId": "2ba56d74-a81e-4131-d8cc-f075f125b8d3"
      },
      "execution_count": null,
      "outputs": [
        {
          "output_type": "execute_result",
          "data": {
            "text/plain": [
              "array(['Data Science', 'Web Designing', 'Java Developer',\n",
              "       'Business Analyst', 'SAP Developer', 'Automation Testing',\n",
              "       'Python Developer', 'DevOps Engineer', 'Network Security Engineer',\n",
              "       'DotNet Developer', 'Testing'], dtype=object)"
            ]
          },
          "metadata": {},
          "execution_count": 9
        }
      ]
    },
    {
      "cell_type": "code",
      "source": [
        "df.Category.value_counts()"
      ],
      "metadata": {
        "colab": {
          "base_uri": "https://localhost:8080/",
          "height": 460
        },
        "id": "7WGO-Dq-hsyk",
        "outputId": "b55676fc-8dad-4000-c291-fa71d2d7b156"
      },
      "execution_count": null,
      "outputs": [
        {
          "output_type": "execute_result",
          "data": {
            "text/plain": [
              "Category\n",
              "Java Developer               84\n",
              "Testing                      70\n",
              "DevOps Engineer              55\n",
              "Python Developer             48\n",
              "Web Designing                45\n",
              "Data Science                 40\n",
              "Business Analyst             28\n",
              "DotNet Developer             28\n",
              "Automation Testing           26\n",
              "Network Security Engineer    25\n",
              "SAP Developer                24\n",
              "Name: count, dtype: int64"
            ],
            "text/html": [
              "<div>\n",
              "<style scoped>\n",
              "    .dataframe tbody tr th:only-of-type {\n",
              "        vertical-align: middle;\n",
              "    }\n",
              "\n",
              "    .dataframe tbody tr th {\n",
              "        vertical-align: top;\n",
              "    }\n",
              "\n",
              "    .dataframe thead th {\n",
              "        text-align: right;\n",
              "    }\n",
              "</style>\n",
              "<table border=\"1\" class=\"dataframe\">\n",
              "  <thead>\n",
              "    <tr style=\"text-align: right;\">\n",
              "      <th></th>\n",
              "      <th>count</th>\n",
              "    </tr>\n",
              "    <tr>\n",
              "      <th>Category</th>\n",
              "      <th></th>\n",
              "    </tr>\n",
              "  </thead>\n",
              "  <tbody>\n",
              "    <tr>\n",
              "      <th>Java Developer</th>\n",
              "      <td>84</td>\n",
              "    </tr>\n",
              "    <tr>\n",
              "      <th>Testing</th>\n",
              "      <td>70</td>\n",
              "    </tr>\n",
              "    <tr>\n",
              "      <th>DevOps Engineer</th>\n",
              "      <td>55</td>\n",
              "    </tr>\n",
              "    <tr>\n",
              "      <th>Python Developer</th>\n",
              "      <td>48</td>\n",
              "    </tr>\n",
              "    <tr>\n",
              "      <th>Web Designing</th>\n",
              "      <td>45</td>\n",
              "    </tr>\n",
              "    <tr>\n",
              "      <th>Data Science</th>\n",
              "      <td>40</td>\n",
              "    </tr>\n",
              "    <tr>\n",
              "      <th>Business Analyst</th>\n",
              "      <td>28</td>\n",
              "    </tr>\n",
              "    <tr>\n",
              "      <th>DotNet Developer</th>\n",
              "      <td>28</td>\n",
              "    </tr>\n",
              "    <tr>\n",
              "      <th>Automation Testing</th>\n",
              "      <td>26</td>\n",
              "    </tr>\n",
              "    <tr>\n",
              "      <th>Network Security Engineer</th>\n",
              "      <td>25</td>\n",
              "    </tr>\n",
              "    <tr>\n",
              "      <th>SAP Developer</th>\n",
              "      <td>24</td>\n",
              "    </tr>\n",
              "  </tbody>\n",
              "</table>\n",
              "</div><br><label><b>dtype:</b> int64</label>"
            ]
          },
          "metadata": {},
          "execution_count": 10
        }
      ]
    },
    {
      "cell_type": "code",
      "source": [
        "df.shape"
      ],
      "metadata": {
        "colab": {
          "base_uri": "https://localhost:8080/"
        },
        "id": "SyFLlcgxho30",
        "outputId": "d1d8d84a-d238-4541-e1be-c1042c18d464"
      },
      "execution_count": null,
      "outputs": [
        {
          "output_type": "execute_result",
          "data": {
            "text/plain": [
              "(473, 2)"
            ]
          },
          "metadata": {},
          "execution_count": 11
        }
      ]
    },
    {
      "cell_type": "code",
      "source": [
        "# В первом датасете название специальности содержится непосредственно в тексте резюме - нужно извлечь его оттуда.\n",
        "# Обычно название содержится в первой строке и заключено в <  >, пишем функцию, которая извлекает название специальности из первой строки из <  >\n",
        "# Название специальности и сам текст резюме мы добавляем ко второму датасету (датафрейму df)\n",
        "for resume in os.listdir('/content/data'):\n",
        "    if resume.endswith('txt'):\n",
        "        with open('/content/data/' + resume, 'r', encoding='windows-1252') as f:\n",
        "            lines = f.readlines()\n",
        "            f.close()\n",
        "        with open('/content/data/' + resume, 'r', encoding='windows-1252') as f:\n",
        "            resume = f.read()\n",
        "            f.close()\n",
        "        values = lines[0].split(' <')\n",
        "        category = labels_normalization_mini(values[0])\n",
        "        if category == '':\n",
        "            continue\n",
        "        df = df._append({'Category': category, 'Resume': resume}, ignore_index=True)"
      ],
      "metadata": {
        "id": "AuH9EJhNiTUB"
      },
      "execution_count": null,
      "outputs": []
    },
    {
      "cell_type": "code",
      "source": [
        "df.Category.value_counts()"
      ],
      "metadata": {
        "colab": {
          "base_uri": "https://localhost:8080/",
          "height": 680
        },
        "id": "quKxDpkgilv-",
        "outputId": "2e03ee51-029a-438f-f8c3-342f9d012b1f"
      },
      "execution_count": null,
      "outputs": [
        {
          "output_type": "execute_result",
          "data": {
            "text/plain": [
              "Category\n",
              "Full Stack Developer         947\n",
              "Data Science                 344\n",
              "Systems Analyst              341\n",
              "UI/UX designer               266\n",
              "Web Designing                215\n",
              "Network Security Engineer    131\n",
              "Java Developer                84\n",
              "DotNet Developer              78\n",
              "Database Analyst              75\n",
              "Testing                       70\n",
              "DevOps Engineer               55\n",
              "Python Developer              48\n",
              "Business Analyst              28\n",
              "Automation Testing            26\n",
              "SAP Developer                 24\n",
              "BackEnd Developer             17\n",
              "IT Support Engineer           13\n",
              "IT Service Manager            10\n",
              "Name: count, dtype: int64"
            ],
            "text/html": [
              "<div>\n",
              "<style scoped>\n",
              "    .dataframe tbody tr th:only-of-type {\n",
              "        vertical-align: middle;\n",
              "    }\n",
              "\n",
              "    .dataframe tbody tr th {\n",
              "        vertical-align: top;\n",
              "    }\n",
              "\n",
              "    .dataframe thead th {\n",
              "        text-align: right;\n",
              "    }\n",
              "</style>\n",
              "<table border=\"1\" class=\"dataframe\">\n",
              "  <thead>\n",
              "    <tr style=\"text-align: right;\">\n",
              "      <th></th>\n",
              "      <th>count</th>\n",
              "    </tr>\n",
              "    <tr>\n",
              "      <th>Category</th>\n",
              "      <th></th>\n",
              "    </tr>\n",
              "  </thead>\n",
              "  <tbody>\n",
              "    <tr>\n",
              "      <th>Full Stack Developer</th>\n",
              "      <td>947</td>\n",
              "    </tr>\n",
              "    <tr>\n",
              "      <th>Data Science</th>\n",
              "      <td>344</td>\n",
              "    </tr>\n",
              "    <tr>\n",
              "      <th>Systems Analyst</th>\n",
              "      <td>341</td>\n",
              "    </tr>\n",
              "    <tr>\n",
              "      <th>UI/UX designer</th>\n",
              "      <td>266</td>\n",
              "    </tr>\n",
              "    <tr>\n",
              "      <th>Web Designing</th>\n",
              "      <td>215</td>\n",
              "    </tr>\n",
              "    <tr>\n",
              "      <th>Network Security Engineer</th>\n",
              "      <td>131</td>\n",
              "    </tr>\n",
              "    <tr>\n",
              "      <th>Java Developer</th>\n",
              "      <td>84</td>\n",
              "    </tr>\n",
              "    <tr>\n",
              "      <th>DotNet Developer</th>\n",
              "      <td>78</td>\n",
              "    </tr>\n",
              "    <tr>\n",
              "      <th>Database Analyst</th>\n",
              "      <td>75</td>\n",
              "    </tr>\n",
              "    <tr>\n",
              "      <th>Testing</th>\n",
              "      <td>70</td>\n",
              "    </tr>\n",
              "    <tr>\n",
              "      <th>DevOps Engineer</th>\n",
              "      <td>55</td>\n",
              "    </tr>\n",
              "    <tr>\n",
              "      <th>Python Developer</th>\n",
              "      <td>48</td>\n",
              "    </tr>\n",
              "    <tr>\n",
              "      <th>Business Analyst</th>\n",
              "      <td>28</td>\n",
              "    </tr>\n",
              "    <tr>\n",
              "      <th>Automation Testing</th>\n",
              "      <td>26</td>\n",
              "    </tr>\n",
              "    <tr>\n",
              "      <th>SAP Developer</th>\n",
              "      <td>24</td>\n",
              "    </tr>\n",
              "    <tr>\n",
              "      <th>BackEnd Developer</th>\n",
              "      <td>17</td>\n",
              "    </tr>\n",
              "    <tr>\n",
              "      <th>IT Support Engineer</th>\n",
              "      <td>13</td>\n",
              "    </tr>\n",
              "    <tr>\n",
              "      <th>IT Service Manager</th>\n",
              "      <td>10</td>\n",
              "    </tr>\n",
              "  </tbody>\n",
              "</table>\n",
              "</div><br><label><b>dtype:</b> int64</label>"
            ]
          },
          "metadata": {},
          "execution_count": 13
        }
      ]
    },
    {
      "cell_type": "code",
      "source": [
        "df.shape"
      ],
      "metadata": {
        "colab": {
          "base_uri": "https://localhost:8080/"
        },
        "id": "afau8OQ7oOup",
        "outputId": "62bfa58c-bdef-46aa-8b55-cabca7647a49"
      },
      "execution_count": null,
      "outputs": [
        {
          "output_type": "execute_result",
          "data": {
            "text/plain": [
              "(2772, 2)"
            ]
          },
          "metadata": {},
          "execution_count": 14
        }
      ]
    },
    {
      "cell_type": "code",
      "source": [
        "# Очищаем тексты с резюме:\n",
        "import re\n",
        "import string\n",
        "def clear_fun(text):\n",
        "    text = text.lower()\n",
        "    text = re.sub('\\[.*?\\]', ' ', text)\n",
        "    text = re.sub(\"\\\\W\",\" \",text)\n",
        "    text = re.sub('https?://\\S+|www\\.\\S+', ' ', text)\n",
        "    text = re.sub('<.*?>+', ' ', text)\n",
        "    text = re.sub('[%s]' % re.escape(string.punctuation), ' ', text)\n",
        "    text = re.sub('\\n', ' ', text)\n",
        "    text = re.sub('\\w*\\d\\w*', ' ', text)\n",
        "   # text = re.sub('\\s+', '', text)\n",
        "    return text\n",
        "\n",
        "df['Resume'] = df['Resume'].apply(clear_fun)"
      ],
      "metadata": {
        "id": "RqhJDg8MmBkv"
      },
      "execution_count": null,
      "outputs": []
    },
    {
      "cell_type": "code",
      "source": [
        "df['Category'][1001]"
      ],
      "metadata": {
        "colab": {
          "base_uri": "https://localhost:8080/",
          "height": 35
        },
        "id": "JE5qBA1Wqytj",
        "outputId": "1ff09198-77d1-444e-eee6-10f8a66508ee"
      },
      "execution_count": null,
      "outputs": [
        {
          "output_type": "execute_result",
          "data": {
            "text/plain": [
              "'Systems Analyst'"
            ],
            "application/vnd.google.colaboratory.intrinsic+json": {
              "type": "string"
            }
          },
          "metadata": {},
          "execution_count": 16
        }
      ]
    },
    {
      "cell_type": "code",
      "source": [
        "# Выводим текст произвольного резюме:\n",
        "df['Resume'][1001]"
      ],
      "metadata": {
        "colab": {
          "base_uri": "https://localhost:8080/",
          "height": 263
        },
        "id": "hsDoVyoqoeMl",
        "outputId": "4fafccc5-3e23-4b08-b408-5c3fcd5d57f5"
      },
      "execution_count": null,
      "outputs": [
        {
          "output_type": "execute_result",
          "data": {
            "text/plain": [
              "'senior graphic designer   front end developer senior graphic designer    span class  hl  front  span   span class  hl  end  span   span class  hl  developer  span  miami  fl extremely creative  and multi talented designer with    years of experience in graphic design  printing  web design  motion graphics   video being an artist for    years has lead me to get into custom hand lettering  character design   branding  i m an artist at heart  creating is my passion  authorized to work in the us for any employer work experience senior graphic designer   front end developer pop creative   miami  fl february   to present   managed design team of   people    oversaw all final designs before sending to ensure quality    handled quality assurance for most sites    programmed front end of all sites in company pipeline     oversaw company s printing department    managed server    stay up ro date with industry developments and tools senior graphic designer   store manager korum customs   miami beach  fl august   to march     managed design team of   people    custom tshirt printing    designed unique print materials including advertising   brochures  flyer s  and logo designs    equipment maintenance    plan advertising and marketing campaigns    helped company increase sales by    assistant manager   graphic designer pk graphics   miami  fl may   to august     assisted in daily operations    resolving customer issues to their overall satisfactory    maintaining management style that follows company s best practices     work close to manager in leading staff    maintain merchandise and visual planning    designed unique print materials such as advertising   brochures  flyer s  and logo designs    prepared layouts and drawings in compliance with  established templates senior graphic designer   front end developer sobe graphics   miami beach  fl january   to may     graphic design    offset   digital printing    large format printing education associates full sail university   winter park  fl march   to august   skills   modeling  graphic design  illustrator  web design  html'"
            ],
            "application/vnd.google.colaboratory.intrinsic+json": {
              "type": "string"
            }
          },
          "metadata": {},
          "execution_count": 42
        }
      ]
    },
    {
      "cell_type": "code",
      "source": [
        "# Для нашего проекта нам нужно классифицировать все резюме по неким классам, отражающим определенные недоработки (слабые места) каждого резюме.\n",
        "# Для этого мы будем использовать ChatGPT и OpenAI API\n",
        "!pip install langchain-community\n",
        "!pip install faiss-cpu\n",
        "!pip install tiktoken"
      ],
      "metadata": {
        "id": "pos_lhCFq6C2"
      },
      "execution_count": null,
      "outputs": []
    },
    {
      "cell_type": "code",
      "source": [
        "from langchain.text_splitter import RecursiveCharacterTextSplitter\n",
        "from langchain_core.documents import Document\n",
        "from langchain.vectorstores import FAISS\n",
        "from langchain.chat_models import ChatOpenAI\n",
        "from langchain.embeddings.openai import OpenAIEmbeddings\n",
        "from langchain.chains.question_answering import load_qa_chain\n",
        "import warnings\n",
        "warnings.filterwarnings('ignore')"
      ],
      "metadata": {
        "id": "ocwBmEVUq6gj"
      },
      "execution_count": null,
      "outputs": []
    },
    {
      "cell_type": "code",
      "source": [
        "# Создаем пустой датафрейм, но уже со столбцом меток класса:\n",
        "df_with_labels = pd.DataFrame(columns=['Category', 'Resume', 'Label'])"
      ],
      "metadata": {
        "id": "xemxS9jLAy0p"
      },
      "execution_count": null,
      "outputs": []
    },
    {
      "cell_type": "code",
      "source": [
        "# Все резюме будем классифицировать по семи классам:\n",
        "def cv_7labels_query(query_with_chunks, cv_category):\n",
        "\n",
        "    query = f''' Я сейчас представлю тебе резюме специалиста, претендующего на позицию:\n",
        "\n",
        "                  \"\"\"\"\"\"\"\"\"\"\"\"\"\"\"\"\"\"\"\"\"\"\"\"\"\"\"\"\"\"\"\"\"\"\"\"\"\"\"\"\"\"\"\"\"\"\"\"\"\"\"\"\"\"\"\"\"\"\"\"\"\"\"\"\"\"\"\"\"\"\"\n",
        "                  {cv_category}\n",
        "                  \"\"\"\"\"\"\"\"\"\"\"\"\"\"\"\"\"\"\"\"\"\"\"\"\"\"\"\"\"\"\"\"\"\"\"\"\"\"\"\"\"\"\"\"\"\"\"\"\"\"\"\"\"\"\"\"\"\"\"\"\"\"\"\"\"\"\"\"\"\"\"\n",
        "                  Мне нужно, чтобы ты максимально подробно проанализировал это резюме, а также отнес его к одному из семи классов.\n",
        "                  Класс 0: резюме составлено правильно и корректно с точки зрения работодателя, особых замечаний нет.\n",
        "                  Класс 1: недостаточно полно указаны технические навыки, опыт и достижения\n",
        "                  Класс 2: нет информации о предыдущих местах работы\n",
        "                  Класс 3: недостаточно подробно перечислены основные технологии и инструменты, с которыми умеет работать автор резюме\n",
        "                  Класс 4: недостаточно информации про образование, в том числе и про дополнительное (онлайн курсы, повышение квалификации, полученные сертификаты и так далее)\n",
        "                  Класс 5: резюме недостаточно краткое и лаконичное\n",
        "                  Класс 6: нет информации о готовности к постоянному обучению и развитию (саморазвитию), о готовности работать в команде, об аналитических навыках и так далее\n",
        "                  Не очень строго оценивай резюме по классу 1.\n",
        "                  И вообще будь помягче - сейчас на рынке большой дефицит специалистов и работодатель на некоторые моменты может \"закрыть глаза\".\n",
        "                  Если тебе кажется, что резюме не относится к классу 0 - подумай еще раз.\n",
        "                  После всестороннего анализа резюме верни мне только одну цифру: номер класса, к которому ты отнес это резюме - от 0 до 6.\n",
        "                  Запомни: возвращай только одну цифру и больше ничего! Это очень важно!\n",
        "                  Вот это резюме:\n",
        "                  \"\"\"\"\"\"\"\"\"\"\"\"\"\"\"\"\"\"\"\"\"\"\"\"\"\"\"\"\"\"\"\"\"\"\"\"\"\"\"\"\"\"\"\"\"\"\"\"\"\"\"\"\"\"\"\"\"\"\"\"\"\"\"\"\"\"\"\"\"\"\"\n",
        "                  {query_with_chunks}\n",
        "                '''\n",
        "    return query"
      ],
      "metadata": {
        "id": "wGV4F-_rLaKw"
      },
      "execution_count": null,
      "outputs": []
    },
    {
      "cell_type": "code",
      "source": [
        "# Для работы с объемными резюме нам понадобится text_splitter\n",
        "text_splitter = RecursiveCharacterTextSplitter(chunk_size=700,\n",
        "                                               chunk_overlap=200,\n",
        "                                               length_function=len)"
      ],
      "metadata": {
        "id": "VoiX-HLELouZ"
      },
      "execution_count": null,
      "outputs": []
    },
    {
      "cell_type": "code",
      "source": [
        "# Основная функция-классификатор\n",
        "def openai(openai_api_key, chunks, analyze):\n",
        "\n",
        "    # Использование сервиса OpenAI для эмбеддингов\n",
        "    embeddings = OpenAIEmbeddings(openai_api_key=openai_api_key)\n",
        "\n",
        "    # Библиотека Facebook AI Similarity Serach помогает нам преобразовывать текстовые данные в числовой вектор\n",
        "    vectorstores = FAISS.from_texts(chunks, embedding=embeddings)\n",
        "\n",
        "    # Сравниваем запрос и фрагменты, это позволяет выбрать «К» наиболее похожих фрагментов на основе их оценок схожести.\n",
        "    docs = vectorstores.similarity_search(query=analyze, k=3)\n",
        "\n",
        "    # Создаем OpenAI объект\n",
        "    llm = ChatOpenAI(model='chatgpt-4o-latest', api_key=openai_api_key)\n",
        "    #llm = ChatOpenAI(model='gpt-4o', api_key=openai_api_key)\n",
        "\n",
        "    # Конвейер вопросов и ответов (QA), использующий функцию load_qa_chain\n",
        "    chain = load_qa_chain(llm=llm, chain_type='stuff')\n",
        "\n",
        "    response = chain.run(input_documents=docs, question=analyze)\n",
        "    return response"
      ],
      "metadata": {
        "id": "E34bdQFEF_la"
      },
      "execution_count": null,
      "outputs": []
    },
    {
      "cell_type": "code",
      "source": [
        "# Процесс классификации\n",
        "count = 0\n",
        "for row in df.itertuples():\n",
        "  category = row.Category\n",
        "  resume = row.Resume\n",
        "  # Разбиваем длинные тексты резюме на небольшие фрагменты.\n",
        "  chunks = text_splitter.split_text(text=row.Resume)\n",
        "  # Проводим нормализацию специальностей\n",
        "  query = cv_7labels_query(query_with_chunks=chunks, cv_category=row.Category)\n",
        "  # Получаем с помощью openai chatgpt метку класса\n",
        "  label = openai(openai_api_key=openai_api_key, chunks=chunks, analyze=query)\n",
        "  # Добавляем в исходный пустой df_with_labels построчно данные Category, Resumе и Label\n",
        "  df_with_labels = df_with_labels._append({'Category': category, 'Resume': resume, 'Label': int(label)}, ignore_index=True)\n",
        "  print(str(count) + ': ' + category + ' = ' + label)\n",
        "  count = count + 1"
      ],
      "metadata": {
        "id": "PMAtVygZBVcg"
      },
      "execution_count": null,
      "outputs": []
    },
    {
      "cell_type": "code",
      "source": [
        "# Сохраняем полученный датасет в файл\n",
        "df_with_labels.to_csv('df_with_labels.csv')"
      ],
      "metadata": {
        "id": "oBihMwyku79b"
      },
      "execution_count": null,
      "outputs": []
    }
  ]
}